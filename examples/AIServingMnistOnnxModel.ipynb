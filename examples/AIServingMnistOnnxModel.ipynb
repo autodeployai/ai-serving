{
 "cells": [
  {
   "cell_type": "markdown",
   "metadata": {},
   "source": [
    "# Inferencing MNIST ONNX Model using AI-Serving"
   ]
  },
  {
   "cell_type": "markdown",
   "metadata": {},
   "source": [
    "The MNIST handwritten digit classification problem is a classic dataset used in computer vision and deep learning, and Convolutional Neural Network (CNN) is the current state-of-art architecture for image classification task.\n",
    "\n",
    "In this tutorial, we will use the Open Neural Network eXchange (ONNX) format to show how to deploy a pre-trained MNIST CNN model using AI-Serving."
   ]
  },
  {
   "cell_type": "markdown",
   "metadata": {},
   "source": [
    "# <a id=\"contents\"></a>Contents\n",
    "This notebook contains the following parts:\n",
    "\n",
    "**[Setup](#setup)**<br />\n",
    "&nbsp;&nbsp;&nbsp;&nbsp;[Prerequisites to run the notebook](#prerequisites)<br />\n",
    "&nbsp;&nbsp;&nbsp;&nbsp;[Additional information about `ai_serving_pb2.py`](#additional)<br />\n",
    "&nbsp;&nbsp;&nbsp;&nbsp;[Install dependencies](#dependencies)<br />\n",
    "&nbsp;&nbsp;&nbsp;&nbsp;[Import dependent modules](#import)<br />\n",
    "**[Validate server](#validate)**<br />\n",
    "&nbsp;&nbsp;&nbsp;&nbsp;[Define the base HTTP URL](#httpurl)<br />\n",
    "&nbsp;&nbsp;&nbsp;&nbsp;[Test the server availability](#testserver)<br />\n",
    "**[Deploy the ONNX model](#deploy)**<br />\n",
    "&nbsp;&nbsp;&nbsp;&nbsp;[Deploy the MNIST model into AI-Serving](#deploy-onnx)<br />\n",
    "&nbsp;&nbsp;&nbsp;&nbsp;[Retrieve metadata of the deployed model](#metadata)<br />\n",
    "**[Make predictions](#predictions)**<br />\n",
    "&nbsp;&nbsp;&nbsp;&nbsp;[Load the testing images](#test-data)<br />\n",
    "&nbsp;&nbsp;&nbsp;&nbsp;[HTTP request formats](#request)<br />\n",
    "&nbsp;&nbsp;&nbsp;&nbsp;[Binary requests](#binary-request)<br />\n",
    "&nbsp;&nbsp;&nbsp;&nbsp;&nbsp;&nbsp;&nbsp;&nbsp;[Construct binary requests](#construct-binary-request)<br />\n",
    "&nbsp;&nbsp;&nbsp;&nbsp;&nbsp;&nbsp;&nbsp;&nbsp;[Make the HTTP requests with binary data](#make-binary-request)<br />\n",
    "&nbsp;&nbsp;&nbsp;&nbsp;&nbsp;&nbsp;&nbsp;&nbsp;[Consume the HTTP responses with binary data](#consume-binary-response)<br />\n",
    "&nbsp;&nbsp;&nbsp;&nbsp;&nbsp;&nbsp;&nbsp;&nbsp;&nbsp;&nbsp;&nbsp;&nbsp;[Parse the response message from the `records` request](#parse-binary-response-records)<br />\n",
    "&nbsp;&nbsp;&nbsp;&nbsp;&nbsp;&nbsp;&nbsp;&nbsp;&nbsp;&nbsp;&nbsp;&nbsp;[Parse the response message from the `split` request](#parse-binary-response-split)<br />\n",
    "&nbsp;&nbsp;&nbsp;&nbsp;[JSON requests](#json-request)<br />\n",
    "&nbsp;&nbsp;&nbsp;&nbsp;&nbsp;&nbsp;&nbsp;&nbsp;[Construct JSON requests](#construct-json-request)<br />\n",
    "&nbsp;&nbsp;&nbsp;&nbsp;&nbsp;&nbsp;&nbsp;&nbsp;[Make the HTTP requests with JSON data](#make-json-request)<br />\n",
    "&nbsp;&nbsp;&nbsp;&nbsp;&nbsp;&nbsp;&nbsp;&nbsp;[Consume the HTTP response with JSON data](#consume-json-response)<br />\n",
    "&nbsp;&nbsp;&nbsp;&nbsp;&nbsp;&nbsp;&nbsp;&nbsp;&nbsp;&nbsp;&nbsp;&nbsp;[Parse the json response message from the `records` request](#parse-json-response-records)<br />\n",
    "&nbsp;&nbsp;&nbsp;&nbsp;&nbsp;&nbsp;&nbsp;&nbsp;&nbsp;&nbsp;&nbsp;&nbsp;[Parse the json response message from the `split` request](#parse-json-response-split)<br />\n",
    "**[Next steps](#next-steps)**<br />"
   ]
  },
  {
   "cell_type": "markdown",
   "metadata": {},
   "source": [
    "# <a id=\"setup\"></a>Setup"
   ]
  },
  {
   "cell_type": "markdown",
   "metadata": {},
   "source": [
    "## <a id=\"prerequisites\"></a>Prerequisites to run the notebook\n",
    "\n",
    "Run a docker container of AI-Serving. The port `9090` is the port of HTTP endpoint while `9091` is for gRPC, you could see an error likes `Bind for 0.0.0.0:9090 failed: port is already allocated`, then use another new port instead of the first part as follows `-p $(NEW_PORT):9090` to run the command again, and remember the port is always needed in the URL of HTTP endpoint. It will aslo pull the latest docker image of AI-Serving with ONNX that leverages the CPU version of [ONNX Runtime](https://github.com/microsoft/onnxruntime) from [docker hub](https://hub.docker.com/r/autodeployai/ai-serving) if it hvaen't been downloaded yet. Please, refer to [Docker Containers for AI-Serving](https://github.com/autodeployai/ai-serving/tree/master/dockerfiles) about more docker images.\n",
    "\n",
    "```bash\n",
    "docker run --rm -it -v $(PWD):/opt/ai-serving -p 9090:9090 -p 9091:9091 autodeployai/ai-serving\n",
    "```"
   ]
  },
  {
   "cell_type": "markdown",
   "metadata": {},
   "source": [
    "## <a id=\"additional\"></a>Additional information about `ai_serving_pb2.py`\n",
    "In the current directory, there is a python file `ai_serving_pb2.py`, which is generated from compiling the [ai-serving.proto](https://github.com/autodeployai/ai-serving/tree/master/src/main/protobuf/ai-serving.proto) using [protoc](https://developers.google.com/protocol-buffers/docs/pythontutorial), for example, the command as follows:\n",
    "\n",
    "```bash\n",
    "protoc -I=$SRC_DIR --python_out=. ai-serving.proto\n",
    "```"
   ]
  },
  {
   "cell_type": "markdown",
   "metadata": {},
   "source": [
    "## <a id=\"dependencies\"></a>Install dependencies\n",
    "We will install python libraries for HTTP request, data manipulation, image manipulation and display:"
   ]
  },
  {
   "cell_type": "code",
   "execution_count": null,
   "metadata": {},
   "outputs": [],
   "source": [
    "!pip install requests\n",
    "!pip install numpy\n",
    "!pip install onnx\n",
    "!pip install pillow\n",
    "!pip install matplotlib"
   ]
  },
  {
   "cell_type": "markdown",
   "metadata": {},
   "source": [
    "## <a id=\"import\"></a>Import dependent modules\n",
    "Import some dependent modules that we are going to need to run the MNIST ONNX model."
   ]
  },
  {
   "cell_type": "code",
   "execution_count": 10,
   "metadata": {},
   "outputs": [],
   "source": [
    "import os\n",
    "import numpy as np\n",
    "import requests\n",
    "from matplotlib import pyplot as plt\n",
    "from PIL import Image\n",
    "from pprint import pprint\n",
    "\n",
    "import onnx\n",
    "import ai_serving_pb2"
   ]
  },
  {
   "cell_type": "markdown",
   "metadata": {},
   "source": [
    "# <a id=\"validate\"></a>Validate server"
   ]
  },
  {
   "cell_type": "markdown",
   "metadata": {},
   "source": [
    "## <a id=\"httpurl\"></a>Define the base HTTP URL\n",
    "Change the port number `9090` to the appropriate port number if you had changed it during AI-Serving docker instantiation"
   ]
  },
  {
   "cell_type": "code",
   "execution_count": 13,
   "metadata": {},
   "outputs": [],
   "source": [
    "port = 9090\n",
    "base_url = 'http://localhost:' + str(port)"
   ]
  },
  {
   "cell_type": "markdown",
   "metadata": {},
   "source": [
    "## <a id=\"testserver\"><a>Test the server availability\n",
    "Use the specific endpoint `http://host:port/up` to test whether the server has been initialized and is ready to accept requests. The `OK` message indicates it's already available."
   ]
  },
  {
   "cell_type": "code",
   "execution_count": 15,
   "metadata": {},
   "outputs": [
    {
     "name": "stdout",
     "output_type": "stream",
     "text": [
      "The status of the server:  OK\n"
     ]
    }
   ],
   "source": [
    "test_url = base_url + '/up'\n",
    "response = requests.get(test_url)\n",
    "print('The status of the server: ', response.text)"
   ]
  },
  {
   "cell_type": "markdown",
   "metadata": {},
   "source": [
    "# <a id=\"deploy\"></a>Deploy the ONNX model"
   ]
  },
  {
   "cell_type": "markdown",
   "metadata": {},
   "source": [
    "## <a id=\"deploy-onnx\"></a>Deploy the MNIST model into AI-Serving\n",
    "First, we need to deploy the MNIST ONNX model `models/mnist-8.onnx` that is from [here](https://github.com/onnx/models/raw/refs/heads/main/validated/vision/classification/mnist/model/mnist-8.onnx) into AI-Serving, which can serve multiple models or multiple versions for a named model at once.\n",
    "\n",
    "You must specify a correct content type for ONNX models when constructing an HTTP request to deploy an ONNX model, the candidates are:\n",
    " * application/octet-stream\n",
    " * application/vnd.google.protobuf\n",
    " * application/x-protobuf"
   ]
  },
  {
   "cell_type": "code",
   "execution_count": 18,
   "metadata": {},
   "outputs": [
    {
     "name": "stdout",
     "output_type": "stream",
     "text": [
      "The depoyment response:  {'name': 'mnist', 'version': 1}\n"
     ]
    }
   ],
   "source": [
    "# The specified servable name\n",
    "model_name = 'mnist'\n",
    "deployment_url = base_url + '/v1/models/' + model_name\n",
    "\n",
    "# The specified content type for the model:\n",
    "headers = {'Content-Type': 'application/x-protobuf'}\n",
    "\n",
    "model_path = os.path.join('models', 'mnist-8.onnx')\n",
    "with open(model_path, 'rb') as file:\n",
    "    deployment_response = requests.put(deployment_url, headers=headers, data=file)\n",
    "\n",
    "# The response is a JSON object contains the sepcified servable name and the model version deployed\n",
    "deployment_response_info = deployment_response.json()\n",
    "print('The depoyment response: ', deployment_response_info)"
   ]
  },
  {
   "cell_type": "markdown",
   "metadata": {},
   "source": [
    "## <a id=\"metadata\"></a>Retrieve metadata of the deployed model\n",
    "The metadata will contain model inputs and outputs, which are needed when constructing an input request and consume an output response."
   ]
  },
  {
   "cell_type": "code",
   "execution_count": 20,
   "metadata": {},
   "outputs": [
    {
     "name": "stdout",
     "output_type": "stream",
     "text": [
      "The model metadata info:\n",
      "{'createdAt': '2024-10-09T21:25:27',\n",
      " 'id': '756bd65a-8805-4ea9-a087-1494f8a9c24e',\n",
      " 'latestVersion': 1,\n",
      " 'name': 'mnist',\n",
      " 'updateAt': '2024-10-09T21:25:27',\n",
      " 'versions': [{'createdAt': '2024-10-09T21:25:27',\n",
      "               'hash': 'd7cd24a0a76cd492f31065301d468c3d',\n",
      "               'inputs': [{'name': 'Input3',\n",
      "                           'shape': [1, 1, 28, 28],\n",
      "                           'type': 'tensor(float)'}],\n",
      "               'outputs': [{'name': 'Plus214_Output_0',\n",
      "                            'shape': [1, 10],\n",
      "                            'type': 'tensor(float)'}],\n",
      "               'runtime': 'ONNX Runtime',\n",
      "               'serialization': 'onnx',\n",
      "               'size': 26454,\n",
      "               'type': 'ONNX',\n",
      "               'version': 1}]}\n"
     ]
    }
   ],
   "source": [
    "model_version = deployment_response_info['version']\n",
    "metadata_url = base_url + '/v1/models/' + model_name + '/versions/' + str(model_version)\n",
    "metadata_response = requests.get(metadata_url)\n",
    "metadata_response_json = metadata_response.json()\n",
    "\n",
    "# Model info of the specified version\n",
    "model_info = metadata_response_json['versions'][0]\n",
    "\n",
    "# Extra some key values: the input tensor name and shape\n",
    "version_metadata_input = model_info['inputs'][0]\n",
    "input_shape = version_metadata_input['shape']\n",
    "input_tensor_name = version_metadata_input['name']\n",
    "\n",
    "# Extra some key values: the output tensor name and shape\n",
    "version_metadata_output = model_info['outputs'][0]\n",
    "output_shape = version_metadata_output['shape']\n",
    "output_tensor_name = version_metadata_output['name']\n",
    "\n",
    "# Show the metadata result in json\n",
    "print('The model metadata info:')\n",
    "pprint(metadata_response_json)"
   ]
  },
  {
   "cell_type": "markdown",
   "metadata": {},
   "source": [
    "# <a id=\"predictions\"></a>Make predictions"
   ]
  },
  {
   "cell_type": "markdown",
   "metadata": {},
   "source": [
    "## <a id=\"test-data\"></a>Load the testing images\n",
    "We will use those test images in the directory `images`"
   ]
  },
  {
   "cell_type": "code",
   "execution_count": 23,
   "metadata": {},
   "outputs": [
    {
     "name": "stdout",
     "output_type": "stream",
     "text": [
      "The testing image list:\n"
     ]
    },
    {
     "data": {
      "image/png": "[encoded data removed]",
      "text/plain": [
       "<Figure size 640x480 with 4 Axes>"
      ]
     },
     "metadata": {},
     "output_type": "display_data"
    }
   ],
   "source": [
    "input_tensors = []\n",
    "input_arrays = []\n",
    "\n",
    "image_size = input_shape[-2:]\n",
    "def preprocess_image_toarray(img):\n",
    "    \"\"\"Resize input images and convert them to grayscale.\"\"\"\n",
    "    gray_img = img.convert('L')\n",
    "    processed_img = gray_img.resize(image_size)\n",
    "    return np.asarray(processed_img)\n",
    "\n",
    "def postprocess(predictions):\n",
    "    \"\"\"postprocess the raw predictions\"\"\"\n",
    "    return int(np.argmax(np.array(predictions).squeeze(), axis=0))\n",
    "\n",
    "# Collect the testing images\n",
    "images_dir = 'images'\n",
    "name_list = []\n",
    "for filename in os.listdir(images_dir):\n",
    "    if filename.split(\".\")[-1] in ('png', 'jpg'):\n",
    "        name_list.append(filename)\n",
    "name_list.sort()\n",
    "\n",
    "# Read the testing images, and preprocess them into the desired size.\n",
    "images = []\n",
    "for filename in name_list:\n",
    "    filepath = os.path.join(images_dir, filename)\n",
    "    img = Image.open(filepath)\n",
    "    img_array = preprocess_image_toarray(img)\n",
    "    images.append((filename, img_array))\n",
    "\n",
    "# Create the input tensor from the testing image.\n",
    "i = 0\n",
    "for x in images:\n",
    "    filename = x[0]\n",
    "    img_processed = x[1]\n",
    "\n",
    "    # Create onnx.TensorProto. In general, there are two ways\n",
    "    # 1. Save the data by the specified data type\n",
    "    # 2. Save the data by the raw way that contains the serialized content of the tensor.\n",
    "    onnx_tensor = onnx.helper.make_tensor(name='', \n",
    "                                          data_type=onnx.TensorProto.FLOAT, \n",
    "                                          dims=input_shape,\n",
    "                                          vals=img_processed.astype(np.float32))\n",
    "\n",
    "    # Convert to ai_serving_pb2.TensorProto from onnx.TensorProto\n",
    "    # Both messages are compatiable with each other\n",
    "    input_tensor = ai_serving_pb2.TensorProto()\n",
    "    input_tensor.ParseFromString(onnx_tensor.SerializeToString())\n",
    "    input_tensors.append(input_tensor)\n",
    "    input_arrays.append(img_processed)        \n",
    "    \n",
    "    # Add a subplot for the current digit.\n",
    "    plt.subplot(1, len(images), i+1)\n",
    "    plt.tight_layout()\n",
    "    plt.imshow(img_processed.reshape([28, 28]), cmap='gray', interpolation='none')\n",
    "    plt.title('Image: {}'.format(filename))\n",
    "    plt.xticks([])\n",
    "    plt.yticks([])\n",
    "    \n",
    "    i += 1\n",
    "print('The testing image list:')\n",
    "plt.show()"
   ]
  },
  {
   "attachments": {},
   "cell_type": "markdown",
   "metadata": {},
   "source": [
    "## <a id=\"request\"></a>HTTP request formats\n",
    "The request for AI-Serving could have two formats: JSON and binary, the HTTP header Content-Type tells the server which format to handle and thus it is required for all requests. The binary payload has better latency, especially for the big tensor value for ONNX models, while the JSON format is easy for human readability.\n",
    "\n",
    "- Content-Type: application/octet-stream, application/vnd.google.protobuf or application/x-protobuf. The request body must be the protobuf message PredictRequest, besides of those common scalar values, it can use the standard onnx.TensorProto value directly.\n",
    "\n",
    "\n",
    "- Content-Type: application/json. The request body must be a JSON object formatted as described [here](https://github.com/autodeployai/ai-serving#4-predict-api)."
   ]
  },
  {
   "cell_type": "markdown",
   "metadata": {},
   "source": [
    "## <a id=\"binary-request\"></a>Binary requests"
   ]
  },
  {
   "cell_type": "markdown",
   "metadata": {},
   "source": [
    "### <a id=\"construct-binary-request\"></a>Construct binary requests\n",
    "We will create both instances of PredictRequest, one is using the `Records` format that has the first 2 cases, the other is using the `Split` format that contains others."
   ]
  },
  {
   "cell_type": "code",
   "execution_count": 27,
   "metadata": {},
   "outputs": [],
   "source": [
    "from ai_serving_pb2 import RecordSpec, Record, PredictRequest, ListValue, Value\n",
    "\n",
    "# Create an instance of RecordSpec using `records` that contains the first 2 tensors.\n",
    "request_message_records = PredictRequest(X=RecordSpec(\n",
    "    records=[ Record(fields={input_tensor_name: Value(tensor_value=x)}) for x in input_tensors[0:2] ]\n",
    "))\n",
    "\n",
    "# Create an instance of RecordSpec using `split` that contains the left tensors.\n",
    "request_message_split = PredictRequest(X=RecordSpec(\n",
    "    columns = [input_tensor_name],\n",
    "    data = [ ListValue(values=[Value(tensor_value=x)]) for x in input_tensors[2:] ]\n",
    "))"
   ]
  },
  {
   "cell_type": "markdown",
   "metadata": {},
   "source": [
    "### <a id=\"make-binary-request\"></a>Make the HTTP requests with binary data\n",
    "Make predictions using the AI-Serving, the content type of requests with binary data must be one of those three candidates above."
   ]
  },
  {
   "cell_type": "code",
   "execution_count": 29,
   "metadata": {},
   "outputs": [],
   "source": [
    "headers = {'Content-Type': 'application/x-protobuf'}\n",
    "\n",
    "# When version is omitted, the latest version is used.\n",
    "prediction_url = base_url + '/v1/models/' + model_name\n",
    "\n",
    "# Make prediction for the `records` request message.\n",
    "prediction_response_records = requests.post(prediction_url, \n",
    "                                           headers=headers, \n",
    "                                           data=request_message_records.SerializeToString())\n",
    "\n",
    "# Make prediciton for the `split` request message.\n",
    "prediction_response_split = requests.post(prediction_url, \n",
    "                                           headers=headers, \n",
    "                                           data=request_message_split.SerializeToString())"
   ]
  },
  {
   "cell_type": "markdown",
   "metadata": {},
   "source": [
    "### <a id=\"consume-binary-response\"></a>Consume the HTTP responses with binary data\n",
    "Having received the results from the server, we are going to parse the \"serialized\" message that we just received for us to make sense of the results. And compare the actual results to the desired ones. **NOTE: The data format of the output response is always the same as the input request.**"
   ]
  },
  {
   "cell_type": "markdown",
   "metadata": {},
   "source": [
    "#### <a id=\"parse-binary-response-records\"></a>Parse the response message from the `records` request"
   ]
  },
  {
   "cell_type": "code",
   "execution_count": 32,
   "metadata": {},
   "outputs": [
    {
     "name": "stdout",
     "output_type": "stream",
     "text": [
      "Raw predictions of \"6.jpg\": [  714.41437 -2176.6016  -1575.0326   -880.8216  -1648.9232   2636.4424\n",
      "  4059.8008  -3973.2715   1262.9858  -1492.2789 ]\n",
      "Final recognized digit: 6\n",
      "------------------------------------------------------------------------------------------------------------------------\n",
      "Raw predictions of \"6.jpg\": [ -514.49316   138.14052  2192.4036   2244.1516  -3340.5215  -1775.897\n",
      " -6222.5186   7784.408   -1814.3502    934.81805]\n",
      "Final recognized digit: 7\n",
      "------------------------------------------------------------------------------------------------------------------------\n"
     ]
    },
    {
     "data": {
      "image/png": "[encoded data removed]",
      "text/plain": [
       "<Figure size 640x480 with 2 Axes>"
      ]
     },
     "metadata": {},
     "output_type": "display_data"
    }
   ],
   "source": [
    "response_message = ai_serving_pb2.PredictResponse()\n",
    "response_message.ParseFromString(prediction_response_records.content)\n",
    "\n",
    "i = 0\n",
    "for x in response_message.result.records:\n",
    "    output_tensor_value = x.fields[output_tensor_name].tensor_value\n",
    "    output_tensor_array = np.asarray(output_tensor_value.float_data, dtype=np.dtype('float32'))\n",
    "    \n",
    "    # Print the prediction for the testing image\n",
    "    print('Raw predictions of \"{}\": {}'.format(images[0][0], output_tensor_array))\n",
    "    print('Final recognized digit: {}'.format(postprocess(output_tensor_array)))\n",
    "    print('-'*120)\n",
    "    \n",
    "    # Add a subplot for the current digit.\n",
    "    plt.subplot(1, len(images) - 1, i + 1)\n",
    "    plt.tight_layout()\n",
    "    plt.imshow(images[i][1].reshape([28, 28]), cmap='gray', interpolation='none')\n",
    "    plt.title('Detecting image: {}'.format(images[i][0]))\n",
    "    plt.xticks([])\n",
    "    plt.yticks([])\n",
    "    i += 1\n",
    "plt.show()"
   ]
  },
  {
   "cell_type": "markdown",
   "metadata": {},
   "source": [
    "#### <a id=\"parse-binary-response-split\"></a>Parse the response message from the `split` request"
   ]
  },
  {
   "cell_type": "code",
   "execution_count": 34,
   "metadata": {},
   "outputs": [
    {
     "name": "stdout",
     "output_type": "stream",
     "text": [
      "Raw predictions of \"8.jpg\": [  397.46228 -2270.2764   1143.2241    850.3334   -468.74387  -592.69666\n",
      "   327.9959  -4857.1685   4933.365    -390.23157]\n",
      "Final recognized digit: 8\n",
      "------------------------------------------------------------------------------------------------------------------------\n",
      "Raw predictions of \"9.jpg\": [-2689.0283  -3374.9338  -1715.207    -871.94696  3004.0815   -926.28235\n",
      " -3160.6943   1612.2079    463.7397   5574.235  ]\n",
      "Final recognized digit: 9\n",
      "------------------------------------------------------------------------------------------------------------------------\n"
     ]
    },
    {
     "data": {
      "image/png": "[encoded data removed]",
      "text/plain": [
       "<Figure size 640x480 with 2 Axes>"
      ]
     },
     "metadata": {},
     "output_type": "display_data"
    }
   ],
   "source": [
    "response_message = ai_serving_pb2.PredictResponse()\n",
    "response_message.ParseFromString(prediction_response_split.content)\n",
    "\n",
    "i = 2\n",
    "for x in response_message.result.data:\n",
    "    output_tensor_value = x.values[0].tensor_value\n",
    "    output_tensor_array = np.asarray(output_tensor_value.float_data, dtype=np.dtype('float32'))\n",
    "\n",
    "    # Print the prediction for the testing image\n",
    "    print('Raw predictions of \"{}\": {}'.format(images[i][0], output_tensor_array))\n",
    "    print('Final recognized digit: {}'.format(postprocess(output_tensor_array)))\n",
    "    print('-'*120)\n",
    "\n",
    "    # Add a subplot for the current digit.\n",
    "    plt.subplot(1, len(images) - 1, i - 1)\n",
    "    plt.tight_layout()\n",
    "    plt.imshow(images[i][1].reshape([28, 28]), cmap='gray', interpolation='none')\n",
    "    plt.title('Detecting image: {}'.format(images[i][0]))\n",
    "    plt.xticks([])\n",
    "    plt.yticks([])\n",
    "    i += 1\n",
    "plt.show()"
   ]
  },
  {
   "cell_type": "markdown",
   "metadata": {},
   "source": [
    "## <a id=\"json-request\"></a>JSON requests"
   ]
  },
  {
   "cell_type": "markdown",
   "metadata": {},
   "source": [
    "### <a id=\"construct-json-request\"></a>Construct JSON requests\n",
    "Create both JSON objects, one is using the `Records` format that has one case, the other is using `Split` that contains other cases."
   ]
  },
  {
   "cell_type": "code",
   "execution_count": 37,
   "metadata": {},
   "outputs": [],
   "source": [
    "# Create a JSON object with records that contains only the first tensor.\n",
    "request_json_recoreds = {\n",
    "    'X': [ {input_tensor_name: x.tolist()} for x in input_arrays[0:2]]\n",
    "}\n",
    "\n",
    "# Create a JSON object with columns and data that contains the last two tensors.\n",
    "request_json_split = {\n",
    "    'X': {\n",
    "        'columns': [input_tensor_name],\n",
    "        'data': [ [x.tolist()] for x in input_arrays[2:] ]\n",
    "    }\n",
    "}"
   ]
  },
  {
   "cell_type": "markdown",
   "metadata": {},
   "source": [
    "### <a id=\"make-json-request\"></a>Make the HTTP requests with JSON data\n",
    "Make predictions using the AI-Serving, the content type of requests with JSON data must be `application/json`."
   ]
  },
  {
   "cell_type": "code",
   "execution_count": 39,
   "metadata": {},
   "outputs": [],
   "source": [
    "# When version is omitted, the latest version is used.\n",
    "prediction_url = base_url + '/v1/models/' + model_name\n",
    "\n",
    "# The Content-Type: application/json is specified implicitly when using json instead of data\n",
    "prediction_json_response_records = requests.post(prediction_url, json=request_json_recoreds)\n",
    "prediction_json_response_split = requests.post(prediction_url, json=request_json_split)"
   ]
  },
  {
   "cell_type": "markdown",
   "metadata": {},
   "source": [
    "### <a id=\"consume-json-response\"></a>Consume the HTTP response with JSON data\n",
    "Having received the results from the server, we are going to parse the JSON text that we just received for us to make sense of the results. And compare the actual results to the desired ones. **NOTE: The data format of the output response is always the same as the input request.**"
   ]
  },
  {
   "cell_type": "markdown",
   "metadata": {},
   "source": [
    "#### <a id=\"parse-json-response-records\"></a>Parse the json response message from the `records` request"
   ]
  },
  {
   "cell_type": "code",
   "execution_count": 42,
   "metadata": {},
   "outputs": [
    {
     "name": "stdout",
     "output_type": "stream",
     "text": [
      "Raw predictions of \"6.jpg\": [[  714.41437 -2176.6016  -1575.0326   -880.8216  -1648.9232   2636.4424\n",
      "   4059.8008  -3973.2715   1262.9858  -1492.2789 ]]\n",
      "Final recognized digit: 6\n",
      "------------------------------------------------------------------------------------------------------------------------\n",
      "Raw predictions of \"6.jpg\": [[ -514.49316   138.14052  2192.4036   2244.1516  -3340.5215  -1775.897\n",
      "  -6222.5186   7784.408   -1814.3502    934.81805]]\n",
      "Final recognized digit: 7\n",
      "------------------------------------------------------------------------------------------------------------------------\n"
     ]
    },
    {
     "data": {
      "image/png": "[encoded data removed]",
      "text/plain": [
       "<Figure size 640x480 with 2 Axes>"
      ]
     },
     "metadata": {},
     "output_type": "display_data"
    }
   ],
   "source": [
    "response_json = prediction_json_response_records.json()\n",
    "\n",
    "i = 0\n",
    "for x in response_json['result']:\n",
    "    output_list = x[output_tensor_name]\n",
    "    output_tensor_array = np.asarray(output_list, dtype=np.dtype('float32'))\n",
    "    \n",
    "    # Print the result for the firest testing image\n",
    "    print('Raw predictions of \"{}\": {}'.format(images[0][0], output_tensor_array))\n",
    "    print('Final recognized digit: {}'.format(postprocess(output_tensor_array)))\n",
    "    print('-'*120)\n",
    "    \n",
    "    # Add a subplot for the current digit.\n",
    "    plt.subplot(1, len(images) - 1, i + 1)\n",
    "    plt.tight_layout()\n",
    "    plt.imshow(images[i][1].reshape([28, 28]), cmap='gray', interpolation='none')\n",
    "    plt.title('Detecting image: {}'.format(images[i][0]))\n",
    "    plt.xticks([])\n",
    "    plt.yticks([])\n",
    "    i += 1\n",
    "plt.show()"
   ]
  },
  {
   "cell_type": "markdown",
   "metadata": {},
   "source": [
    "#### <a id=\"parse-json-response-split\"></a>Parse the json response message from the `split` request"
   ]
  },
  {
   "cell_type": "code",
   "execution_count": 44,
   "metadata": {},
   "outputs": [
    {
     "name": "stdout",
     "output_type": "stream",
     "text": [
      "Raw predictions of \"8.jpg\": [[[  397.46228 -2270.2764   1143.2241    850.3334   -468.74387\n",
      "    -592.69666   327.9959  -4857.1685   4933.365    -390.23157]]]\n",
      "Final recognized digit: 8\n",
      "------------------------------------------------------------------------------------------------------------------------\n",
      "Raw predictions of \"9.jpg\": [[[-2689.0283  -3374.9338  -1715.207    -871.94696  3004.0815\n",
      "    -926.28235 -3160.6943   1612.2079    463.7397   5574.235  ]]]\n",
      "Final recognized digit: 9\n",
      "------------------------------------------------------------------------------------------------------------------------\n"
     ]
    },
    {
     "data": {
      "image/png": "[encoded data removed]",
      "text/plain": [
       "<Figure size 640x480 with 2 Axes>"
      ]
     },
     "metadata": {},
     "output_type": "display_data"
    }
   ],
   "source": [
    "response_json = prediction_json_response_split.json()\n",
    "\n",
    "i = 2\n",
    "for x in response_json['result']['data']:\n",
    "    output_list = x\n",
    "    output_tensor_array = np.asarray(output_list, dtype=np.dtype('float32'))\n",
    "\n",
    "    # Print the prediction for the testing image\n",
    "    print('Raw predictions of \"{}\": {}'.format(images[i][0], output_tensor_array))\n",
    "    print('Final recognized digit: {}'.format(postprocess(output_tensor_array)))\n",
    "    print('-'*120)\n",
    "\n",
    "    # Add a subplot for the current digit.\n",
    "    plt.subplot(1, len(images) - 1, i - 1)\n",
    "    plt.tight_layout()\n",
    "    plt.imshow(images[i][1].reshape([28, 28]), cmap='gray', interpolation='none')\n",
    "    plt.title('Detecting image: {}'.format(images[i][0]))\n",
    "    plt.xticks([])\n",
    "    plt.yticks([])\n",
    "    i += 1\n",
    "plt.show()"
   ]
  },
  {
   "cell_type": "markdown",
   "metadata": {},
   "source": [
    "## <a id=\"next-steps\"></a>Next steps\n",
    "\n",
    "I hope the tutoiral can help you to learn how to use the AI-Serving. If you have any questions, please open issues on this repository. Feedback and contributions to the project, no matter what kind, are always very welcome.\n",
    "\n",
    "**Star the [AI-Serving](https://github.com/autodeployai/ai-serving) project if it's helpful for you!!!**"
   ]
  }
 ],
 "metadata": {
  "kernelspec": {
   "display_name": "Python 3 (ipykernel)",
   "language": "python",
   "name": "python3"
  },
  "language_info": {
   "codemirror_mode": {
    "name": "ipython",
    "version": 3
   },
   "file_extension": ".py",
   "mimetype": "text/x-python",
   "name": "python",
   "nbconvert_exporter": "python",
   "pygments_lexer": "ipython3",
   "version": "3.12.4"
  }
 },
 "nbformat": 4,
 "nbformat_minor": 4
}
